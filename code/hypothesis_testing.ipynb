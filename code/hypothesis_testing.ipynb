{
 "cells": [
  {
   "cell_type": "code",
   "execution_count": 17,
   "metadata": {
    "id": "Lovz9t_yxqnJ"
   },
   "outputs": [],
   "source": [
    "import numpy as np\n",
    "from scipy.stats import t\n"
   ]
  },
  {
   "cell_type": "code",
   "execution_count": 18,
   "metadata": {
    "colab": {
     "base_uri": "https://localhost:8080/"
    },
    "id": "otM4g1i3NZ6N",
    "outputId": "a65889e4-abd4-4585-9407-3e2216e63885"
   },
   "outputs": [
    {
     "name": "stdout",
     "output_type": "stream",
     "text": [
      "t-statistic: -0.49179614738020716\n",
      "p-value: 0.6334794450808903\n"
     ]
    }
   ],
   "source": [
    "#RF XGBoost\n",
    "import numpy as np\n",
    "\n",
    "# Define the accuracy arrays for models A and B\n",
    "acc_A = np.array([0.68434343, 0.68181818, 0.68181818, 0.67424242, 0.68686869, 0.67424242,0.68434343, 0.70707071, 0.6489899,  0.67171717])\n",
    "acc_B = np.array([0.68939394, 0.66666667, 0.66919192, 0.68939394, 0.68181818, 0.68434343, 0.67424242, 0.73232323, 0.63636364, 0.69444444])\n",
    "\n",
    "# Compute mean accuracies\n",
    "mean_acc_A = np.mean(acc_A)\n",
    "mean_acc_B = np.mean(acc_B)\n",
    "\n",
    "# Calculate the variance term var(A - B)\n",
    "k = len(acc_A)  # Number of folds\n",
    "acc_diff = acc_A - acc_B\n",
    "mean_diff = mean_acc_A - mean_acc_B\n",
    "var_diff = np.sum((acc_diff - mean_diff) ** 2) / k\n",
    "\n",
    "# Calculate the t-statistic\n",
    "t_stat = (mean_acc_A - mean_acc_B) / np.sqrt(var_diff / k)\n",
    "\n",
    "print(\"t-statistic:\", t_stat)\n",
    "\n",
    "p_val = (1-t.cdf(abs(t_stat), 10)) * 2\n",
    "print(\"p-value:\", p_val)"
   ]
  },
  {
   "cell_type": "code",
   "execution_count": 19,
   "metadata": {
    "colab": {
     "base_uri": "https://localhost:8080/"
    },
    "id": "cLGmyg3YvvVZ",
    "outputId": "fd33c84b-2e53-400f-cbde-43e5ddec4026"
   },
   "outputs": [
    {
     "name": "stdout",
     "output_type": "stream",
     "text": [
      "t-statistic: 6.148534118246744\n",
      "p-value: 0.0001085308512360772\n"
     ]
    }
   ],
   "source": [
    "# RF SVC\n",
    "import numpy as np\n",
    "acc_A = np.array([0.68434343, 0.68181818, 0.68181818, 0.67424242, 0.68686869, 0.67424242,0.68434343, 0.70707071, 0.6489899,  0.67171717])\n",
    "acc_B = np.array([0.6489899,  0.65656566, 0.64646465, 0.6489899,  0.6489899,  0.64646465,0.6489899,  0.6489899,  0.6540404,  0.65151515])\n",
    "\n",
    "# Compute mean accuracies\n",
    "mean_acc_A = np.mean(acc_A)\n",
    "mean_acc_B = np.mean(acc_B)\n",
    "\n",
    "# Calculate the variance term var(A - B)\n",
    "k = len(acc_A)  # Number of folds\n",
    "acc_diff = acc_A - acc_B\n",
    "mean_diff = mean_acc_A - mean_acc_B\n",
    "var_diff = np.sum((acc_diff - mean_diff) ** 2) / k\n",
    "\n",
    "# Calculate the t-statistic\n",
    "t_stat = (mean_acc_A - mean_acc_B) / np.sqrt(var_diff / k)\n",
    "\n",
    "print(\"t-statistic:\", t_stat)\n",
    "\n",
    "p_val = (1-t.cdf(abs(t_stat), 10)) * 2\n",
    "print(\"p-value:\", p_val)\n"
   ]
  },
  {
   "cell_type": "code",
   "execution_count": 20,
   "metadata": {
    "colab": {
     "base_uri": "https://localhost:8080/"
    },
    "id": "gG2varSaxC7i",
    "outputId": "4545be58-079f-48b2-f00c-b93d4dbd13a7"
   },
   "outputs": [
    {
     "name": "stdout",
     "output_type": "stream",
     "text": [
      "t-statistic: -0.03918684912030938\n",
      "p-value: 0.9695127198117965\n"
     ]
    }
   ],
   "source": [
    "# RF FFN\n",
    "# Define the accuracy arrays for models A and B\n",
    "acc_A = np.array([0.68434343, 0.68181818, 0.68181818, 0.67424242, 0.68686869, 0.67424242,0.68434343, 0.70707071, 0.6489899,  0.67171717])\n",
    "acc_B = np.array([0.7096, 0.6490, 0.6692, 0.6919, 0.6894, 0.6843, 0.6869, 0.6742, 0.6490, 0.6944])\n",
    "\n",
    "# Compute mean accuracies\n",
    "mean_acc_A = np.mean(acc_A)\n",
    "mean_acc_B = np.mean(acc_B)\n",
    "\n",
    "# Calculate the variance term var(A - B)\n",
    "k = len(acc_A)  # Number of folds\n",
    "acc_diff = acc_A - acc_B\n",
    "mean_diff = mean_acc_A - mean_acc_B\n",
    "var_diff = np.sum((acc_diff - mean_diff) ** 2) / k\n",
    "\n",
    "# Calculate the t-statistic\n",
    "t_stat = (mean_acc_A - mean_acc_B) / np.sqrt(var_diff / k)\n",
    "\n",
    "print(\"t-statistic:\", t_stat)\n",
    "p_val = (1-t.cdf(abs(t_stat), 10)) * 2\n",
    "print(\"p-value:\", p_val)\n"
   ]
  },
  {
   "cell_type": "code",
   "execution_count": 21,
   "metadata": {
    "colab": {
     "base_uri": "https://localhost:8080/"
    },
    "id": "9aLJAU16xaua",
    "outputId": "93ad82f6-0963-4cc0-e975-d10b0ba90d5b"
   },
   "outputs": [
    {
     "name": "stdout",
     "output_type": "stream",
     "text": [
      "t-statistic: 0.30433719307806617\n",
      "p-value: 0.7671099167909183\n"
     ]
    }
   ],
   "source": [
    "# XGB FFN\n",
    "# Define the accuracy arrays for models A and B\n",
    "acc_A = np.array([0.68939394, 0.66666667, 0.66919192, 0.68939394, 0.68181818, 0.68434343, 0.67424242, 0.73232323, 0.63636364, 0.69444444])\n",
    "acc_B = np.array([0.7096, 0.6490, 0.6692, 0.6919, 0.6894, 0.6843, 0.6869, 0.6742, 0.6490, 0.6944])\n",
    "\n",
    "# Compute mean accuracies\n",
    "mean_acc_A = np.mean(acc_A)\n",
    "mean_acc_B = np.mean(acc_B)\n",
    "\n",
    "# Calculate the variance term var(A - B)\n",
    "k = len(acc_A)  # Number of folds\n",
    "acc_diff = acc_A - acc_B\n",
    "mean_diff = mean_acc_A - mean_acc_B\n",
    "var_diff = np.sum((acc_diff - mean_diff) ** 2) / k\n",
    "\n",
    "# Calculate the t-statistic\n",
    "t_stat = (mean_acc_A - mean_acc_B) / np.sqrt(var_diff / k)\n",
    "\n",
    "print(\"t-statistic:\", t_stat)\n",
    "p_val = (1-t.cdf(abs(t_stat), 10)) * 2\n",
    "print(\"p-value:\", p_val)"
   ]
  },
  {
   "cell_type": "code",
   "execution_count": 22,
   "metadata": {
    "colab": {
     "base_uri": "https://localhost:8080/"
    },
    "id": "rLk-O_ekyCD6",
    "outputId": "5615864b-5920-45f5-a65f-e29ab0b39c1b"
   },
   "outputs": [
    {
     "name": "stdout",
     "output_type": "stream",
     "text": [
      "t-statistic: 4.104430663742209\n",
      "p-value: 0.002129431593622\n"
     ]
    }
   ],
   "source": [
    "# XGB SVC\n",
    "# Define the accuracy arrays for models A and B\n",
    "acc_A = np.array([0.68939394, 0.66666667, 0.66919192, 0.68939394, 0.68181818, 0.68434343, 0.67424242, 0.73232323, 0.63636364, 0.69444444])\n",
    "acc_B = np.array([0.6489899,  0.65656566, 0.64646465, 0.6489899,  0.6489899,  0.64646465,0.6489899,  0.6489899,  0.6540404,  0.65151515])\n",
    "\n",
    "# Compute mean accuracies\n",
    "mean_acc_A = np.mean(acc_A)\n",
    "mean_acc_B = np.mean(acc_B)\n",
    "\n",
    "# Calculate the variance term var(A - B)\n",
    "k = len(acc_A)  # Number of folds\n",
    "acc_diff = acc_A - acc_B\n",
    "mean_diff = mean_acc_A - mean_acc_B\n",
    "var_diff = np.sum((acc_diff - mean_diff) ** 2) / k\n",
    "\n",
    "# Calculate the t-statistic\n",
    "t_stat = (mean_acc_A - mean_acc_B) / np.sqrt(var_diff / k)\n",
    "\n",
    "print(\"t-statistic:\", t_stat)\n",
    "p_val = (1-t.cdf(abs(t_stat), 10)) * 2\n",
    "print(\"p-value:\", p_val)"
   ]
  },
  {
   "cell_type": "code",
   "execution_count": 23,
   "metadata": {
    "colab": {
     "base_uri": "https://localhost:8080/"
    },
    "id": "C82pSENr0Fxq",
    "outputId": "c54ab3ef-0281-4f0e-9958-c42d7e6f376d"
   },
   "outputs": [
    {
     "name": "stdout",
     "output_type": "stream",
     "text": [
      "t-statistic: 4.587810053134387\n",
      "p-value: 0.0009985964541383563\n"
     ]
    }
   ],
   "source": [
    "# FFN SVC\n",
    "# Define the accuracy arrays for models A and B\n",
    "acc_A = np.array([0.7096, 0.6490, 0.6692, 0.6919, 0.6894, 0.6843, 0.6869, 0.6742, 0.6490, 0.6944])\n",
    "acc_B = np.array([0.6489899,  0.65656566, 0.64646465, 0.6489899,  0.6489899,  0.64646465,0.6489899,  0.6489899,  0.6540404,  0.65151515])\n",
    "\n",
    "# Compute mean accuracies\n",
    "mean_acc_A = np.mean(acc_A)\n",
    "mean_acc_B = np.mean(acc_B)\n",
    "\n",
    "# Calculate the variance term var(A - B)\n",
    "k = len(acc_A)  # Number of folds\n",
    "acc_diff = acc_A - acc_B\n",
    "mean_diff = mean_acc_A - mean_acc_B\n",
    "var_diff = np.sum((acc_diff - mean_diff) ** 2) / k\n",
    "\n",
    "# Calculate the t-statistic\n",
    "t_stat = (mean_acc_A - mean_acc_B) / np.sqrt(var_diff / k)\n",
    "\n",
    "print(\"t-statistic:\", t_stat)\n",
    "p_val = (1-t.cdf(abs(t_stat), 10)) * 2\n",
    "print(\"p-value:\", p_val)"
   ]
  },
  {
   "cell_type": "code",
   "execution_count": 23,
   "metadata": {
    "id": "3B4UBX1Z0IUo"
   },
   "outputs": [],
   "source": []
  }
 ],
 "metadata": {
  "colab": {
   "provenance": []
  },
  "kernelspec": {
   "display_name": "Python 3",
   "name": "python3"
  },
  "language_info": {
   "name": "python"
  }
 },
 "nbformat": 4,
 "nbformat_minor": 0
}
