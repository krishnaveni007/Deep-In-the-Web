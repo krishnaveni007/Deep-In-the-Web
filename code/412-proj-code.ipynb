{
 "cells": [
  {
   "cell_type": "markdown",
   "id": "cd224213-bd68-4b80-a78b-bdcc28844288",
   "metadata": {
    "editable": true,
    "slideshow": {
     "slide_type": ""
    },
    "tags": []
   },
   "source": [
    "# Imports\n"
   ]
  },
  {
   "cell_type": "code",
   "execution_count": 2,
   "id": "03b988b7-c922-40d7-8bb8-d2b02fd0ea84",
   "metadata": {
    "editable": true,
    "slideshow": {
     "slide_type": ""
    },
    "tags": []
   },
   "outputs": [],
   "source": [
    "import pandas as pd\n",
    "import os\n",
    "%matplotlib inline \n",
    "\n",
    "import numpy as np\n",
    "import matplotlib.pyplot as plt\n",
    "from matplotlib import style\n",
    "style.use('ggplot')\n",
    "\n",
    "from scipy import stats\n",
    "\n",
    "from sklearn.linear_model import LogisticRegression\n",
    "from sklearn.metrics import accuracy_score\n",
    "from sklearn.ensemble import RandomForestClassifier\n",
    "from xgboost import XGBClassifier\n",
    "from sklearn.multioutput import MultiOutputClassifier\n",
    "\n",
    "from sklearn.model_selection import cross_val_score"
   ]
  },
  {
   "cell_type": "markdown",
   "id": "ff37350d-11d3-48df-ab14-3ff65bc1e757",
   "metadata": {},
   "source": [
    "# Read data"
   ]
  },
  {
   "cell_type": "code",
   "execution_count": 2,
   "id": "f5903bc5-5ece-4d83-8557-42e752682059",
   "metadata": {},
   "outputs": [],
   "source": [
    "# import opendatasets as od\n",
    "# dataset = 'https://www.kaggle.com/competitions/child-mind-institute-problematic-internet-use/data'\n",
    "# od.download(dataset)"
   ]
  },
  {
   "cell_type": "code",
   "execution_count": 3,
   "id": "7da8da79-0be0-47af-8552-1442c8455821",
   "metadata": {
    "editable": true,
    "slideshow": {
     "slide_type": ""
    },
    "tags": []
   },
   "outputs": [
    {
     "data": {
      "text/plain": [
       "Index(['id', 'Basic_Demos-Enroll_Season', 'Basic_Demos-Age', 'Basic_Demos-Sex',\n",
       "       'CGAS-Season', 'CGAS-CGAS_Score', 'Physical-Season', 'Physical-BMI',\n",
       "       'Physical-Height', 'Physical-Weight', 'Physical-Waist_Circumference',\n",
       "       'Physical-Diastolic_BP', 'Physical-HeartRate', 'Physical-Systolic_BP',\n",
       "       'Fitness_Endurance-Season', 'Fitness_Endurance-Max_Stage',\n",
       "       'Fitness_Endurance-Time_Mins', 'Fitness_Endurance-Time_Sec',\n",
       "       'FGC-Season', 'FGC-FGC_CU', 'FGC-FGC_CU_Zone', 'FGC-FGC_GSND',\n",
       "       'FGC-FGC_GSND_Zone', 'FGC-FGC_GSD', 'FGC-FGC_GSD_Zone', 'FGC-FGC_PU',\n",
       "       'FGC-FGC_PU_Zone', 'FGC-FGC_SRL', 'FGC-FGC_SRL_Zone', 'FGC-FGC_SRR',\n",
       "       'FGC-FGC_SRR_Zone', 'FGC-FGC_TL', 'FGC-FGC_TL_Zone', 'BIA-Season',\n",
       "       'BIA-BIA_Activity_Level_num', 'BIA-BIA_BMC', 'BIA-BIA_BMI',\n",
       "       'BIA-BIA_BMR', 'BIA-BIA_DEE', 'BIA-BIA_ECW', 'BIA-BIA_FFM',\n",
       "       'BIA-BIA_FFMI', 'BIA-BIA_FMI', 'BIA-BIA_Fat', 'BIA-BIA_Frame_num',\n",
       "       'BIA-BIA_ICW', 'BIA-BIA_LDM', 'BIA-BIA_LST', 'BIA-BIA_SMM',\n",
       "       'BIA-BIA_TBW', 'PAQ_A-Season', 'PAQ_A-PAQ_A_Total', 'PAQ_C-Season',\n",
       "       'PAQ_C-PAQ_C_Total', 'PCIAT-Season', 'PCIAT-PCIAT_01', 'PCIAT-PCIAT_02',\n",
       "       'PCIAT-PCIAT_03', 'PCIAT-PCIAT_04', 'PCIAT-PCIAT_05', 'PCIAT-PCIAT_06',\n",
       "       'PCIAT-PCIAT_07', 'PCIAT-PCIAT_08', 'PCIAT-PCIAT_09', 'PCIAT-PCIAT_10',\n",
       "       'PCIAT-PCIAT_11', 'PCIAT-PCIAT_12', 'PCIAT-PCIAT_13', 'PCIAT-PCIAT_14',\n",
       "       'PCIAT-PCIAT_15', 'PCIAT-PCIAT_16', 'PCIAT-PCIAT_17', 'PCIAT-PCIAT_18',\n",
       "       'PCIAT-PCIAT_19', 'PCIAT-PCIAT_20', 'PCIAT-PCIAT_Total', 'SDS-Season',\n",
       "       'SDS-SDS_Total_Raw', 'SDS-SDS_Total_T', 'PreInt_EduHx-Season',\n",
       "       'PreInt_EduHx-computerinternet_hoursday', 'sii'],\n",
       "      dtype='object')"
      ]
     },
     "execution_count": 3,
     "metadata": {},
     "output_type": "execute_result"
    }
   ],
   "source": [
    "df = pd.read_csv(\"/home/ku18/CS412/dataset/train.csv\")\n",
    "df.columns"
   ]
  },
  {
   "cell_type": "code",
   "execution_count": 4,
   "id": "41a201d4-38fe-4589-83b0-2d0a598335d4",
   "metadata": {
    "editable": true,
    "slideshow": {
     "slide_type": ""
    },
    "tags": []
   },
   "outputs": [],
   "source": [
    "TARGET_COLS = [\n",
    "    # \"PCIAT-PCIAT_01\",\n",
    "    # \"PCIAT-PCIAT_02\",\n",
    "    # \"PCIAT-PCIAT_03\",\n",
    "    # \"PCIAT-PCIAT_04\",\n",
    "    # \"PCIAT-PCIAT_05\",\n",
    "    # \"PCIAT-PCIAT_06\",\n",
    "    # \"PCIAT-PCIAT_07\",\n",
    "    # \"PCIAT-PCIAT_08\",\n",
    "    # \"PCIAT-PCIAT_09\",\n",
    "    # \"PCIAT-PCIAT_10\",\n",
    "    # \"PCIAT-PCIAT_11\",\n",
    "    # \"PCIAT-PCIAT_12\",\n",
    "    # \"PCIAT-PCIAT_13\",\n",
    "    # \"PCIAT-PCIAT_14\",\n",
    "    # \"PCIAT-PCIAT_15\",\n",
    "    # \"PCIAT-PCIAT_16\",\n",
    "    # \"PCIAT-PCIAT_17\",\n",
    "    # \"PCIAT-PCIAT_18\",\n",
    "    # \"PCIAT-PCIAT_19\",\n",
    "    # \"PCIAT-PCIAT_20\",\n",
    "    # \"PCIAT-PCIAT_Total\",\n",
    "    \"sii\"\n",
    "]\n",
    "\n",
    "FEATURE_COLS = [\n",
    "    \"Basic_Demos-Age\",\n",
    "    \"Basic_Demos-Sex\",\n",
    "    \"CGAS-CGAS_Score\",\n",
    "    \"Physical-BMI\",\n",
    "    \"Physical-Height\",\n",
    "    \"Physical-Weight\",\n",
    "    \"Physical-Waist_Circumference\",\n",
    "    \"Physical-Diastolic_BP\",\n",
    "    \"Physical-HeartRate\",\n",
    "    \"Physical-Systolic_BP\",\n",
    "    \"Fitness_Endurance-Max_Stage\",\n",
    "    \"Fitness_Endurance-Time_Mins\",\n",
    "    \"Fitness_Endurance-Time_Sec\",\n",
    "    \"FGC-FGC_CU\",\n",
    "    \"FGC-FGC_CU_Zone\",\n",
    "    \"FGC-FGC_GSND\",\n",
    "    \"FGC-FGC_GSND_Zone\",\n",
    "    \"FGC-FGC_GSD\",\n",
    "    \"FGC-FGC_GSD_Zone\",\n",
    "    \"FGC-FGC_PU\",\n",
    "    \"FGC-FGC_PU_Zone\",\n",
    "    \"FGC-FGC_SRL\",\n",
    "    \"FGC-FGC_SRL_Zone\",\n",
    "    \"FGC-FGC_SRR\",\n",
    "    \"FGC-FGC_SRR_Zone\",\n",
    "    \"FGC-FGC_TL\",\n",
    "    \"FGC-FGC_TL_Zone\",\n",
    "    \"BIA-BIA_Activity_Level_num\",\n",
    "    \"BIA-BIA_BMC\",\n",
    "    \"BIA-BIA_BMI\",\n",
    "    \"BIA-BIA_BMR\",\n",
    "    \"BIA-BIA_DEE\",\n",
    "    \"BIA-BIA_ECW\",\n",
    "    \"BIA-BIA_FFM\",\n",
    "    \"BIA-BIA_FFMI\",\n",
    "    \"BIA-BIA_FMI\",\n",
    "    \"BIA-BIA_Fat\",\n",
    "    \"BIA-BIA_Frame_num\",\n",
    "    \"BIA-BIA_ICW\",\n",
    "    \"BIA-BIA_LDM\",\n",
    "    \"BIA-BIA_LST\",\n",
    "    \"BIA-BIA_SMM\",\n",
    "    \"BIA-BIA_TBW\",\n",
    "    \"PAQ_A-PAQ_A_Total\",\n",
    "    \"PAQ_C-PAQ_C_Total\",\n",
    "    \"SDS-SDS_Total_Raw\",\n",
    "    \"SDS-SDS_Total_T\",\n",
    "    \"PreInt_EduHx-computerinternet_hoursday\",\n",
    "]\n",
    "data = df[FEATURE_COLS]\n",
    "target = df[TARGET_COLS]"
   ]
  },
  {
   "cell_type": "code",
   "execution_count": 5,
   "id": "a3a44969-9db8-49fe-8d81-d324f6ca06e6",
   "metadata": {},
   "outputs": [
    {
     "data": {
      "text/plain": [
       "3960"
      ]
     },
     "execution_count": 5,
     "metadata": {},
     "output_type": "execute_result"
    }
   ],
   "source": [
    "len(data)"
   ]
  },
  {
   "cell_type": "markdown",
   "id": "e34c8d59-21be-462c-98fc-f58fd85403d2",
   "metadata": {},
   "source": [
    "# Missing values in data"
   ]
  },
  {
   "cell_type": "code",
   "execution_count": 6,
   "id": "df1e4202-bb0a-437e-b4ba-2694c0448ba2",
   "metadata": {
    "editable": true,
    "slideshow": {
     "slide_type": ""
    },
    "tags": []
   },
   "outputs": [
    {
     "name": "stdout",
     "output_type": "stream",
     "text": [
      "Basic_Demos-Age                              0\n",
      "Basic_Demos-Sex                              0\n",
      "CGAS-CGAS_Score                           1539\n",
      "Physical-BMI                               938\n",
      "Physical-Height                            933\n",
      "Physical-Weight                            884\n",
      "Physical-Waist_Circumference              3062\n",
      "Physical-Diastolic_BP                     1006\n",
      "Physical-HeartRate                         993\n",
      "Physical-Systolic_BP                      1006\n",
      "Fitness_Endurance-Max_Stage               3217\n",
      "Fitness_Endurance-Time_Mins               3220\n",
      "Fitness_Endurance-Time_Sec                3220\n",
      "FGC-FGC_CU                                1638\n",
      "FGC-FGC_CU_Zone                           1678\n",
      "FGC-FGC_GSND                              2886\n",
      "FGC-FGC_GSND_Zone                         2898\n",
      "FGC-FGC_GSD                               2886\n",
      "FGC-FGC_GSD_Zone                          2897\n",
      "FGC-FGC_PU                                1650\n",
      "FGC-FGC_PU_Zone                           1689\n",
      "FGC-FGC_SRL                               1655\n",
      "FGC-FGC_SRL_Zone                          1693\n",
      "FGC-FGC_SRR                               1653\n",
      "FGC-FGC_SRR_Zone                          1691\n",
      "FGC-FGC_TL                                1636\n",
      "FGC-FGC_TL_Zone                           1675\n",
      "BIA-BIA_Activity_Level_num                1969\n",
      "BIA-BIA_BMC                               1969\n",
      "BIA-BIA_BMI                               1969\n",
      "BIA-BIA_BMR                               1969\n",
      "BIA-BIA_DEE                               1969\n",
      "BIA-BIA_ECW                               1969\n",
      "BIA-BIA_FFM                               1969\n",
      "BIA-BIA_FFMI                              1969\n",
      "BIA-BIA_FMI                               1969\n",
      "BIA-BIA_Fat                               1969\n",
      "BIA-BIA_Frame_num                         1969\n",
      "BIA-BIA_ICW                               1969\n",
      "BIA-BIA_LDM                               1969\n",
      "BIA-BIA_LST                               1969\n",
      "BIA-BIA_SMM                               1969\n",
      "BIA-BIA_TBW                               1969\n",
      "PAQ_A-PAQ_A_Total                         3485\n",
      "PAQ_C-PAQ_C_Total                         2239\n",
      "SDS-SDS_Total_Raw                         1351\n",
      "SDS-SDS_Total_T                           1354\n",
      "PreInt_EduHx-computerinternet_hoursday     659\n",
      "dtype: int64\n"
     ]
    }
   ],
   "source": [
    "print(data.isna().sum())"
   ]
  },
  {
   "cell_type": "markdown",
   "id": "32b0a92c-8dbb-4230-903e-72bd6ab47086",
   "metadata": {
    "editable": true,
    "slideshow": {
     "slide_type": ""
    },
    "tags": []
   },
   "source": [
    "## Iterative imputation to fill in missing values in the dataset|"
   ]
  },
  {
   "cell_type": "code",
   "execution_count": 7,
   "id": "d3b1bed4-5ff6-499d-b42d-51e74c40ae5f",
   "metadata": {},
   "outputs": [],
   "source": [
    "from sklearn.experimental import enable_iterative_imputer \n",
    "from sklearn.impute import IterativeImputer\n",
    "\n",
    "iterative_imputer = IterativeImputer(max_iter=10, random_state=0)\n",
    "\n",
    "data_imputed = pd.DataFrame(iterative_imputer.fit_transform(data))\n",
    "data_imputed.columns = FEATURE_COLS"
   ]
  },
  {
   "cell_type": "markdown",
   "id": "8ed0907d-9343-4954-9618-fbd937d505e7",
   "metadata": {},
   "source": [
    "# Missing values in target"
   ]
  },
  {
   "cell_type": "code",
   "execution_count": 8,
   "id": "5b01fe32-12d2-43eb-a62c-d2ae651068fb",
   "metadata": {},
   "outputs": [
    {
     "name": "stdout",
     "output_type": "stream",
     "text": [
      "sii    1224\n",
      "dtype: int64\n"
     ]
    }
   ],
   "source": [
    "print(target.isna().sum())"
   ]
  },
  {
   "cell_type": "markdown",
   "id": "f146a92b-964a-45f2-8e4c-14791eed29ab",
   "metadata": {},
   "source": [
    "## Label Propogation to fill target values"
   ]
  },
  {
   "cell_type": "code",
   "execution_count": 9,
   "id": "f60ad2f3-e15b-46c5-b725-d1c6ec865ecd",
   "metadata": {},
   "outputs": [],
   "source": [
    "from sklearn.semi_supervised import LabelPropagation\n",
    "from sklearn.preprocessing import StandardScaler\n",
    "target = target.fillna(-1).values.flatten()\n",
    "scaler = StandardScaler()\n",
    "data_scaled = scaler.fit_transform(data_imputed)\n",
    "label_prop_model = LabelPropagation(kernel='knn', n_neighbors=5)\n",
    "label_prop_model.fit(data_scaled, target)\n",
    "target_imputed = label_prop_model.transduction_ "
   ]
  },
  {
   "cell_type": "markdown",
   "id": "61326f71-eced-4050-8d2b-fd4efd2a57af",
   "metadata": {},
   "source": [
    "# Classification models"
   ]
  },
  {
   "cell_type": "code",
   "execution_count": 10,
   "id": "3c0a85ed-a3f5-4522-aaa9-9b616c4b788b",
   "metadata": {},
   "outputs": [],
   "source": [
    "X = data_imputed\n",
    "y = target_imputed"
   ]
  },
  {
   "cell_type": "markdown",
   "id": "f6c5a73f-f6b2-49db-a999-e524c45b4c5c",
   "metadata": {},
   "source": [
    "## Classifiers"
   ]
  },
  {
   "cell_type": "code",
   "execution_count": 11,
   "id": "47cd677d-3a41-4884-85ec-5b4143225cad",
   "metadata": {},
   "outputs": [
    {
     "name": "stdout",
     "output_type": "stream",
     "text": [
      "[0.67929293 0.69191919 0.68434343 0.69949495 0.67424242 0.67171717\n",
      " 0.67929293 0.7020202  0.6540404  0.66161616]\n",
      "0.6797979797979798\n"
     ]
    }
   ],
   "source": [
    "# create the model: Random Forest\n",
    "myRF = RandomForestClassifier(max_depth=15, random_state=0, n_estimators=100)\n",
    "\n",
    "# Perform k-fold cross-validation\n",
    "accuracyRF = cross_val_score(myRF,X,y,cv=10)\n",
    "\n",
    "# report accuracy in each fold, and mean accuracy\n",
    "print(accuracyRF)\n",
    "print(np.mean(accuracyRF))"
   ]
  },
  {
   "cell_type": "code",
   "execution_count": 22,
   "id": "510a2420-95a1-4c0c-be00-4bab4724440c",
   "metadata": {},
   "outputs": [
    {
     "name": "stdout",
     "output_type": "stream",
     "text": [
      "Cross-validation accuracies for each fold: [0.66161616 0.67424242 0.67676768 0.68686869 0.67929293 0.68434343\n",
      " 0.66919192 0.69444444 0.63636364 0.7020202 ]\n",
      "Mean cross-validation accuracy: 0.6765151515151515\n"
     ]
    },
    {
     "data": {
      "text/html": [
       "<style>#sk-container-id-1 {color: black;}#sk-container-id-1 pre{padding: 0;}#sk-container-id-1 div.sk-toggleable {background-color: white;}#sk-container-id-1 label.sk-toggleable__label {cursor: pointer;display: block;width: 100%;margin-bottom: 0;padding: 0.3em;box-sizing: border-box;text-align: center;}#sk-container-id-1 label.sk-toggleable__label-arrow:before {content: \"▸\";float: left;margin-right: 0.25em;color: #696969;}#sk-container-id-1 label.sk-toggleable__label-arrow:hover:before {color: black;}#sk-container-id-1 div.sk-estimator:hover label.sk-toggleable__label-arrow:before {color: black;}#sk-container-id-1 div.sk-toggleable__content {max-height: 0;max-width: 0;overflow: hidden;text-align: left;background-color: #f0f8ff;}#sk-container-id-1 div.sk-toggleable__content pre {margin: 0.2em;color: black;border-radius: 0.25em;background-color: #f0f8ff;}#sk-container-id-1 input.sk-toggleable__control:checked~div.sk-toggleable__content {max-height: 200px;max-width: 100%;overflow: auto;}#sk-container-id-1 input.sk-toggleable__control:checked~label.sk-toggleable__label-arrow:before {content: \"▾\";}#sk-container-id-1 div.sk-estimator input.sk-toggleable__control:checked~label.sk-toggleable__label {background-color: #d4ebff;}#sk-container-id-1 div.sk-label input.sk-toggleable__control:checked~label.sk-toggleable__label {background-color: #d4ebff;}#sk-container-id-1 input.sk-hidden--visually {border: 0;clip: rect(1px 1px 1px 1px);clip: rect(1px, 1px, 1px, 1px);height: 1px;margin: -1px;overflow: hidden;padding: 0;position: absolute;width: 1px;}#sk-container-id-1 div.sk-estimator {font-family: monospace;background-color: #f0f8ff;border: 1px dotted black;border-radius: 0.25em;box-sizing: border-box;margin-bottom: 0.5em;}#sk-container-id-1 div.sk-estimator:hover {background-color: #d4ebff;}#sk-container-id-1 div.sk-parallel-item::after {content: \"\";width: 100%;border-bottom: 1px solid gray;flex-grow: 1;}#sk-container-id-1 div.sk-label:hover label.sk-toggleable__label {background-color: #d4ebff;}#sk-container-id-1 div.sk-serial::before {content: \"\";position: absolute;border-left: 1px solid gray;box-sizing: border-box;top: 0;bottom: 0;left: 50%;z-index: 0;}#sk-container-id-1 div.sk-serial {display: flex;flex-direction: column;align-items: center;background-color: white;padding-right: 0.2em;padding-left: 0.2em;position: relative;}#sk-container-id-1 div.sk-item {position: relative;z-index: 1;}#sk-container-id-1 div.sk-parallel {display: flex;align-items: stretch;justify-content: center;background-color: white;position: relative;}#sk-container-id-1 div.sk-item::before, #sk-container-id-1 div.sk-parallel-item::before {content: \"\";position: absolute;border-left: 1px solid gray;box-sizing: border-box;top: 0;bottom: 0;left: 50%;z-index: -1;}#sk-container-id-1 div.sk-parallel-item {display: flex;flex-direction: column;z-index: 1;position: relative;background-color: white;}#sk-container-id-1 div.sk-parallel-item:first-child::after {align-self: flex-end;width: 50%;}#sk-container-id-1 div.sk-parallel-item:last-child::after {align-self: flex-start;width: 50%;}#sk-container-id-1 div.sk-parallel-item:only-child::after {width: 0;}#sk-container-id-1 div.sk-dashed-wrapped {border: 1px dashed gray;margin: 0 0.4em 0.5em 0.4em;box-sizing: border-box;padding-bottom: 0.4em;background-color: white;}#sk-container-id-1 div.sk-label label {font-family: monospace;font-weight: bold;display: inline-block;line-height: 1.2em;}#sk-container-id-1 div.sk-label-container {text-align: center;}#sk-container-id-1 div.sk-container {/* jupyter's `normalize.less` sets `[hidden] { display: none; }` but bootstrap.min.css set `[hidden] { display: none !important; }` so we also need the `!important` here to be able to override the default hidden behavior on the sphinx rendered scikit-learn.org. See: https://github.com/scikit-learn/scikit-learn/issues/21755 */display: inline-block !important;position: relative;}#sk-container-id-1 div.sk-text-repr-fallback {display: none;}</style><div id=\"sk-container-id-1\" class=\"sk-top-container\"><div class=\"sk-text-repr-fallback\"><pre>XGBClassifier(base_score=None, booster=None, callbacks=None,\n",
       "              colsample_bylevel=None, colsample_bynode=None,\n",
       "              colsample_bytree=None, device=None, early_stopping_rounds=None,\n",
       "              enable_categorical=False, eval_metric=None, feature_types=None,\n",
       "              gamma=None, grow_policy=None, importance_type=None,\n",
       "              interaction_constraints=None, learning_rate=None, max_bin=None,\n",
       "              max_cat_threshold=None, max_cat_to_onehot=None,\n",
       "              max_delta_step=None, max_depth=15, max_leaves=None,\n",
       "              min_child_weight=None, missing=nan, monotone_constraints=None,\n",
       "              multi_strategy=None, n_estimators=100, n_jobs=None,\n",
       "              num_parallel_tree=None, objective=&#x27;multi:softprob&#x27;, ...)</pre><b>In a Jupyter environment, please rerun this cell to show the HTML representation or trust the notebook. <br />On GitHub, the HTML representation is unable to render, please try loading this page with nbviewer.org.</b></div><div class=\"sk-container\" hidden><div class=\"sk-item\"><div class=\"sk-estimator sk-toggleable\"><input class=\"sk-toggleable__control sk-hidden--visually\" id=\"sk-estimator-id-1\" type=\"checkbox\" checked><label for=\"sk-estimator-id-1\" class=\"sk-toggleable__label sk-toggleable__label-arrow\">XGBClassifier</label><div class=\"sk-toggleable__content\"><pre>XGBClassifier(base_score=None, booster=None, callbacks=None,\n",
       "              colsample_bylevel=None, colsample_bynode=None,\n",
       "              colsample_bytree=None, device=None, early_stopping_rounds=None,\n",
       "              enable_categorical=False, eval_metric=None, feature_types=None,\n",
       "              gamma=None, grow_policy=None, importance_type=None,\n",
       "              interaction_constraints=None, learning_rate=None, max_bin=None,\n",
       "              max_cat_threshold=None, max_cat_to_onehot=None,\n",
       "              max_delta_step=None, max_depth=15, max_leaves=None,\n",
       "              min_child_weight=None, missing=nan, monotone_constraints=None,\n",
       "              multi_strategy=None, n_estimators=100, n_jobs=None,\n",
       "              num_parallel_tree=None, objective=&#x27;multi:softprob&#x27;, ...)</pre></div></div></div></div></div>"
      ],
      "text/plain": [
       "XGBClassifier(base_score=None, booster=None, callbacks=None,\n",
       "              colsample_bylevel=None, colsample_bynode=None,\n",
       "              colsample_bytree=None, device=None, early_stopping_rounds=None,\n",
       "              enable_categorical=False, eval_metric=None, feature_types=None,\n",
       "              gamma=None, grow_policy=None, importance_type=None,\n",
       "              interaction_constraints=None, learning_rate=None, max_bin=None,\n",
       "              max_cat_threshold=None, max_cat_to_onehot=None,\n",
       "              max_delta_step=None, max_depth=15, max_leaves=None,\n",
       "              min_child_weight=None, missing=nan, monotone_constraints=None,\n",
       "              multi_strategy=None, n_estimators=100, n_jobs=None,\n",
       "              num_parallel_tree=None, objective='multi:softprob', ...)"
      ]
     },
     "execution_count": 22,
     "metadata": {},
     "output_type": "execute_result"
    }
   ],
   "source": [
    "# create the model: XGBoost\n",
    "myXGB = XGBClassifier(max_depth=15, n_estimators = 100)\n",
    "\n",
    "# Perform k-fold cross-validation and report accuracy in each fold\n",
    "accuracyXGB = cross_val_score(myXGB, X, y, cv=10)\n",
    "print(\"Cross-validation accuracies for each fold:\", accuracyXGB)\n",
    "print(\"Mean cross-validation accuracy:\", accuracyXGB.mean())\n",
    "\n",
    "myXGB.fit(X, y)"
   ]
  },
  {
   "cell_type": "code",
   "execution_count": 37,
   "id": "c24b9043-39fa-4620-acc6-7caaea900328",
   "metadata": {},
   "outputs": [
    {
     "name": "stdout",
     "output_type": "stream",
     "text": [
      "[0.6489899  0.65656566 0.64646465 0.6489899  0.6489899  0.64646465\n",
      " 0.6489899  0.6489899  0.6540404  0.65151515]\n",
      "0.65\n"
     ]
    }
   ],
   "source": [
    "from sklearn.svm import SVC\n",
    "from sklearn.preprocessing import StandardScaler\n",
    "from sklearn.pipeline import make_pipeline\n",
    "\n",
    "mySVC = make_pipeline(StandardScaler(), SVC(kernel='linear', random_state=42))\n",
    "accuracySVC = cross_val_score(mySVC,X,y,cv=10)\n",
    "print(accuracySVC)\n",
    "print(np.mean(accuracySVC))"
   ]
  },
  {
   "cell_type": "code",
   "execution_count": 39,
   "id": "bbfb7c7a-f626-4277-bba8-79d9c95a56e3",
   "metadata": {},
   "outputs": [],
   "source": [
    "import torch\n",
    "import torch.nn as nn\n",
    "import torch.optim as optim\n",
    "from torch.utils.data import DataLoader, TensorDataset\n",
    "from sklearn.model_selection import train_test_split\n",
    "from sklearn.preprocessing import StandardScaler\n",
    "\n",
    "X_train, X_test, y_train, y_test = train_test_split(X, y, test_size=0.2, random_state=42, stratify=y)\n",
    "\n",
    "# Standardize features\n",
    "scaler = StandardScaler()\n",
    "X_train = scaler.fit_transform(X_train)\n",
    "X_test = scaler.transform(X_test)\n",
    "\n",
    "# Convert data to PyTorch tensors\n",
    "X_train_tensor = torch.tensor(X_train, dtype=torch.float32)\n",
    "X_test_tensor = torch.tensor(X_test, dtype=torch.float32)\n",
    "y_train_tensor = torch.tensor(y_train, dtype=torch.long)\n",
    "y_test_tensor = torch.tensor(y_test, dtype=torch.long)\n",
    "\n",
    "# Create data loaders\n",
    "train_data = TensorDataset(X_train_tensor, y_train_tensor)\n",
    "test_data = TensorDataset(X_test_tensor, y_test_tensor)\n",
    "train_loader = DataLoader(train_data, batch_size=32, shuffle=True)\n",
    "test_loader = DataLoader(test_data, batch_size=32, shuffle=False)\n",
    "\n",
    "# Define the Feedforward Neural Network Model\n",
    "class FFN(nn.Module):\n",
    "    def __init__(self, input_dim, hidden_dim, output_dim):\n",
    "        super(FFN, self).__init__()\n",
    "        self.fc1 = nn.Linear(input_dim, hidden_dim)\n",
    "        self.relu = nn.ReLU()\n",
    "        self.fc2 = nn.Linear(hidden_dim, hidden_dim)\n",
    "        self.fc3 = nn.Linear(hidden_dim, output_dim)\n",
    "        self.softmax = nn.Softmax(dim=1)\n",
    "    \n",
    "    def forward(self, x):\n",
    "        x = self.fc1(x)\n",
    "        x = self.relu(x)\n",
    "        x = self.fc2(x)\n",
    "        x = self.relu(x)\n",
    "        x = self.fc3(x)\n",
    "        return self.softmax(x)  # For prediction, softmax is used to output class probabilities\n",
    "\n",
    "# Instantiate the model\n",
    "input_dim = X_train.shape[1]\n",
    "hidden_dim = 64  # Example hidden layer size, adjust as needed\n",
    "output_dim = len(set(y))  # Number of classes\n",
    "model = FFN(input_dim, hidden_dim, output_dim)\n",
    "\n",
    "# Define Loss and Optimizer\n",
    "criterion = nn.CrossEntropyLoss()  # Suitable for multi-class classification\n",
    "optimizer = optim.Adam(model.parameters(), lr=0.001)\n"
   ]
  },
  {
   "cell_type": "code",
   "execution_count": 42,
   "id": "5f5035b3-576b-4cb2-a649-2e56100e5f40",
   "metadata": {},
   "outputs": [
    {
     "name": "stdout",
     "output_type": "stream",
     "text": [
      "Fold 1\n",
      "Accuracy for fold 1: 0.7096\n",
      "Fold 2\n",
      "Accuracy for fold 2: 0.6490\n",
      "Fold 3\n",
      "Accuracy for fold 3: 0.6692\n",
      "Fold 4\n",
      "Accuracy for fold 4: 0.6919\n",
      "Fold 5\n",
      "Accuracy for fold 5: 0.6894\n",
      "Fold 6\n",
      "Accuracy for fold 6: 0.6843\n",
      "Fold 7\n",
      "Accuracy for fold 7: 0.6869\n",
      "Fold 8\n",
      "Accuracy for fold 8: 0.6742\n",
      "Fold 9\n",
      "Accuracy for fold 9: 0.6490\n",
      "Fold 10\n",
      "Accuracy for fold 10: 0.6944\n",
      "Cross-validation results:\n",
      "Mean accuracy: 0.6798\n",
      "Standard deviation of accuracy: 0.0186\n"
     ]
    }
   ],
   "source": [
    "from sklearn.model_selection import KFold\n",
    "import numpy as np\n",
    "\n",
    "# Define 10-fold cross-validation\n",
    "kf = KFold(n_splits=10, shuffle=True, random_state=42)\n",
    "num_epochs = 20  # Number of epochs to train for each fold\n",
    "batch_size = 32  # Batch size for DataLoader\n",
    "fold_accuracies = []  # To store accuracy for each fold\n",
    "\n",
    "# Loop over each fold\n",
    "for fold, (train_idx, val_idx) in enumerate(kf.split(X, y)):\n",
    "    print(f\"Fold {fold+1}\")\n",
    "\n",
    "    # Split data into train and validation sets for this fold\n",
    "    # X_train_fold, X_val_fold = X[train_idx], X[val_idx]\n",
    "    y_train_fold, y_val_fold = y[train_idx], y[val_idx]\n",
    "    X_train_fold, X_val_fold = X.iloc[train_idx], X.iloc[val_idx]\n",
    "    # y_train_fold, y_val_fold = y.iloc[train_idx], y.iloc[val_idx]\n",
    "\n",
    "    # Standardize features\n",
    "    scaler = StandardScaler()\n",
    "    X_train_fold = scaler.fit_transform(X_train_fold)\n",
    "    X_val_fold = scaler.transform(X_val_fold)\n",
    "\n",
    "    # Convert to PyTorch tensors\n",
    "    X_train_tensor = torch.tensor(X_train_fold, dtype=torch.float32)\n",
    "    y_train_tensor = torch.tensor(y_train_fold, dtype=torch.long)\n",
    "    X_val_tensor = torch.tensor(X_val_fold, dtype=torch.float32)\n",
    "    y_val_tensor = torch.tensor(y_val_fold, dtype=torch.long)\n",
    "\n",
    "    # Create data loaders\n",
    "    train_loader = DataLoader(TensorDataset(X_train_tensor, y_train_tensor), batch_size=batch_size, shuffle=True)\n",
    "    val_loader = DataLoader(TensorDataset(X_val_tensor, y_val_tensor), batch_size=batch_size, shuffle=False)\n",
    "\n",
    "    # Initialize a new instance of the model for each fold\n",
    "    model = FFN(input_dim, hidden_dim, output_dim)\n",
    "    optimizer = optim.Adam(model.parameters(), lr=0.001)\n",
    "    \n",
    "    # Train the model\n",
    "    for epoch in range(num_epochs):\n",
    "        model.train()\n",
    "        for X_batch, y_batch in train_loader:\n",
    "            optimizer.zero_grad()\n",
    "            outputs = model(X_batch)\n",
    "            loss = criterion(outputs, y_batch)\n",
    "            loss.backward()\n",
    "            optimizer.step()\n",
    "\n",
    "    # Evaluate the model on the validation set\n",
    "    model.eval()\n",
    "    correct = 0\n",
    "    total = 0\n",
    "    with torch.no_grad():\n",
    "        for X_batch, y_batch in val_loader:\n",
    "            outputs = model(X_batch)\n",
    "            _, predicted = torch.max(outputs, 1)\n",
    "            total += y_batch.size(0)\n",
    "            correct += (predicted == y_batch).sum().item()\n",
    "\n",
    "    # Calculate accuracy for this fold\n",
    "    fold_accuracy = correct / total\n",
    "    fold_accuracies.append(fold_accuracy)\n",
    "    print(f\"Accuracy for fold {fold+1}: {fold_accuracy:.4f}\")\n",
    "\n",
    "# Report mean and standard deviation of accuracy across all folds\n",
    "print(\"Cross-validation results:\")\n",
    "print(f\"Mean accuracy: {np.mean(fold_accuracies):.4f}\")\n",
    "print(f\"Standard deviation of accuracy: {np.std(fold_accuracies):.4f}\")\n"
   ]
  },
  {
   "cell_type": "markdown",
   "id": "893c80f3-ac47-4193-9221-8031f7622fa2",
   "metadata": {},
   "source": [
    "# test.csv performance"
   ]
  },
  {
   "cell_type": "code",
   "execution_count": 35,
   "id": "aaa105c4-976b-4e94-bc54-2ca6b24b0dcb",
   "metadata": {},
   "outputs": [
    {
     "data": {
      "text/plain": [
       "Index(['id', 'Basic_Demos-Enroll_Season', 'Basic_Demos-Age', 'Basic_Demos-Sex',\n",
       "       'CGAS-Season', 'CGAS-CGAS_Score', 'Physical-Season', 'Physical-BMI',\n",
       "       'Physical-Height', 'Physical-Weight', 'Physical-Waist_Circumference',\n",
       "       'Physical-Diastolic_BP', 'Physical-HeartRate', 'Physical-Systolic_BP',\n",
       "       'Fitness_Endurance-Season', 'Fitness_Endurance-Max_Stage',\n",
       "       'Fitness_Endurance-Time_Mins', 'Fitness_Endurance-Time_Sec',\n",
       "       'FGC-Season', 'FGC-FGC_CU', 'FGC-FGC_CU_Zone', 'FGC-FGC_GSND',\n",
       "       'FGC-FGC_GSND_Zone', 'FGC-FGC_GSD', 'FGC-FGC_GSD_Zone', 'FGC-FGC_PU',\n",
       "       'FGC-FGC_PU_Zone', 'FGC-FGC_SRL', 'FGC-FGC_SRL_Zone', 'FGC-FGC_SRR',\n",
       "       'FGC-FGC_SRR_Zone', 'FGC-FGC_TL', 'FGC-FGC_TL_Zone', 'BIA-Season',\n",
       "       'BIA-BIA_Activity_Level_num', 'BIA-BIA_BMC', 'BIA-BIA_BMI',\n",
       "       'BIA-BIA_BMR', 'BIA-BIA_DEE', 'BIA-BIA_ECW', 'BIA-BIA_FFM',\n",
       "       'BIA-BIA_FFMI', 'BIA-BIA_FMI', 'BIA-BIA_Fat', 'BIA-BIA_Frame_num',\n",
       "       'BIA-BIA_ICW', 'BIA-BIA_LDM', 'BIA-BIA_LST', 'BIA-BIA_SMM',\n",
       "       'BIA-BIA_TBW', 'PAQ_A-Season', 'PAQ_A-PAQ_A_Total', 'PAQ_C-Season',\n",
       "       'PAQ_C-PAQ_C_Total', 'SDS-Season', 'SDS-SDS_Total_Raw',\n",
       "       'SDS-SDS_Total_T', 'PreInt_EduHx-Season',\n",
       "       'PreInt_EduHx-computerinternet_hoursday'],\n",
       "      dtype='object')"
      ]
     },
     "execution_count": 35,
     "metadata": {},
     "output_type": "execute_result"
    }
   ],
   "source": [
    "df = pd.read_csv(\"/home/ku18/CS412/dataset/test.csv\")\n",
    "df.columns"
   ]
  },
  {
   "cell_type": "code",
   "execution_count": 36,
   "id": "616aad87-d49c-4a7e-91d8-d84c97872dd4",
   "metadata": {},
   "outputs": [],
   "source": [
    "ids = df['id']\n",
    "test_data = df[FEATURE_COLS]"
   ]
  },
  {
   "cell_type": "code",
   "execution_count": 37,
   "id": "a9995f8d-99c0-4d0b-9dfa-eb88debe17ae",
   "metadata": {},
   "outputs": [
    {
     "data": {
      "text/plain": [
       "20"
      ]
     },
     "execution_count": 37,
     "metadata": {},
     "output_type": "execute_result"
    }
   ],
   "source": [
    "len(test_data)"
   ]
  },
  {
   "cell_type": "code",
   "execution_count": 38,
   "id": "046565bb-4623-4f0d-9751-bd153aa8b334",
   "metadata": {},
   "outputs": [
    {
     "data": {
      "text/plain": [
       "Basic_Demos-Age                            0\n",
       "Basic_Demos-Sex                            0\n",
       "CGAS-CGAS_Score                           12\n",
       "Physical-BMI                               7\n",
       "Physical-Height                            7\n",
       "Physical-Weight                            7\n",
       "Physical-Waist_Circumference              15\n",
       "Physical-Diastolic_BP                      9\n",
       "Physical-HeartRate                         8\n",
       "Physical-Systolic_BP                       9\n",
       "Fitness_Endurance-Max_Stage               17\n",
       "Fitness_Endurance-Time_Mins               17\n",
       "Fitness_Endurance-Time_Sec                17\n",
       "FGC-FGC_CU                                 7\n",
       "FGC-FGC_CU_Zone                            7\n",
       "FGC-FGC_GSND                              15\n",
       "FGC-FGC_GSND_Zone                         15\n",
       "FGC-FGC_GSD                               15\n",
       "FGC-FGC_GSD_Zone                          15\n",
       "FGC-FGC_PU                                 7\n",
       "FGC-FGC_PU_Zone                            7\n",
       "FGC-FGC_SRL                                7\n",
       "FGC-FGC_SRL_Zone                           7\n",
       "FGC-FGC_SRR                                7\n",
       "FGC-FGC_SRR_Zone                           7\n",
       "FGC-FGC_TL                                 7\n",
       "FGC-FGC_TL_Zone                            7\n",
       "BIA-BIA_Activity_Level_num                12\n",
       "BIA-BIA_BMC                               12\n",
       "BIA-BIA_BMI                               12\n",
       "BIA-BIA_BMR                               12\n",
       "BIA-BIA_DEE                               12\n",
       "BIA-BIA_ECW                               12\n",
       "BIA-BIA_FFM                               12\n",
       "BIA-BIA_FFMI                              12\n",
       "BIA-BIA_FMI                               12\n",
       "BIA-BIA_Fat                               12\n",
       "BIA-BIA_Frame_num                         12\n",
       "BIA-BIA_ICW                               12\n",
       "BIA-BIA_LDM                               12\n",
       "BIA-BIA_LST                               12\n",
       "BIA-BIA_SMM                               12\n",
       "BIA-BIA_TBW                               12\n",
       "PAQ_A-PAQ_A_Total                         19\n",
       "PAQ_C-PAQ_C_Total                         11\n",
       "SDS-SDS_Total_Raw                         10\n",
       "SDS-SDS_Total_T                           10\n",
       "PreInt_EduHx-computerinternet_hoursday     4\n",
       "dtype: int64"
      ]
     },
     "execution_count": 38,
     "metadata": {},
     "output_type": "execute_result"
    }
   ],
   "source": [
    "test_data.isna().sum()"
   ]
  },
  {
   "cell_type": "code",
   "execution_count": 39,
   "id": "f31b9d46-5ec2-4738-9547-e5bf9b67a3ee",
   "metadata": {},
   "outputs": [
    {
     "name": "stderr",
     "output_type": "stream",
     "text": [
      "/opt/conda/lib/python3.11/site-packages/sklearn/impute/_iterative.py:800: ConvergenceWarning: [IterativeImputer] Early stopping criterion not reached.\n",
      "  warnings.warn(\n"
     ]
    }
   ],
   "source": [
    "# Using the trained Iterative Imputer fill in missing values in test\n",
    "test_data_imputed = pd.DataFrame(iterative_imputer.fit_transform(test_data))\n",
    "test_data_imputed.columns = FEATURE_COLS"
   ]
  },
  {
   "cell_type": "code",
   "execution_count": 40,
   "id": "215ea626-70ca-43c6-bb5c-993ed857917f",
   "metadata": {},
   "outputs": [],
   "source": [
    "test_predictions = myXGB.predict(test_data_imputed)"
   ]
  },
  {
   "cell_type": "code",
   "execution_count": 41,
   "id": "2d20763b-b83e-46ab-84d5-b38bd2087096",
   "metadata": {},
   "outputs": [
    {
     "data": {
      "text/plain": [
       "array([0, 0, 0, 1, 0, 1, 0, 0, 0, 0, 0, 0, 1, 2, 0, 0, 0, 0, 0, 0])"
      ]
     },
     "execution_count": 41,
     "metadata": {},
     "output_type": "execute_result"
    }
   ],
   "source": [
    "test_predictions"
   ]
  },
  {
   "cell_type": "code",
   "execution_count": 44,
   "id": "acd01280-6fd6-4bb8-bbbf-b1d148179e2e",
   "metadata": {},
   "outputs": [],
   "source": [
    "result_df = pd.DataFrame({\n",
    "    'id': ids[0],  # Assuming 'id' is the column name for IDs\n",
    "    'sii': test_predictions\n",
    "})"
   ]
  },
  {
   "cell_type": "code",
   "execution_count": 46,
   "id": "2c43e321-be15-4f36-824a-18dc883a60bf",
   "metadata": {},
   "outputs": [],
   "source": [
    "result_df.to_csv(\"submission.csv\")"
   ]
  }
 ],
 "metadata": {
  "kernelspec": {
   "display_name": "Python 3 (ipykernel)",
   "language": "python",
   "name": "python3"
  },
  "language_info": {
   "codemirror_mode": {
    "name": "ipython",
    "version": 3
   },
   "file_extension": ".py",
   "mimetype": "text/x-python",
   "name": "python",
   "nbconvert_exporter": "python",
   "pygments_lexer": "ipython3",
   "version": "3.11.6"
  }
 },
 "nbformat": 4,
 "nbformat_minor": 5
}
